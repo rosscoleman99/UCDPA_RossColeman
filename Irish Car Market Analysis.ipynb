{
 "cells": [
  {
   "cell_type": "code",
   "execution_count": 2341,
   "id": "810a1ac8",
   "metadata": {},
   "outputs": [],
   "source": [
    "# Import Packages\n",
    "import pandas as pd\n",
    "import numpy as np\n",
    "import matplotlib.pyplot as plt\n",
    "import seaborn as sns"
   ]
  },
  {
   "cell_type": "code",
   "execution_count": 2342,
   "id": "7b75ce69",
   "metadata": {},
   "outputs": [],
   "source": [
    "## New Car 1st Time Registrations 2021 VS Used Car 1st Time Registrations 2021"
   ]
  },
  {
   "cell_type": "code",
   "execution_count": 2343,
   "id": "b9b29a71",
   "metadata": {},
   "outputs": [],
   "source": [
    "# Import TEM01.20220212T110233.csv to Pandas\n",
    "new_private_cars_1st_time_registrations = pd.read_csv(\"TEM01.20220212T110233.csv\")"
   ]
  },
  {
   "cell_type": "code",
   "execution_count": 2344,
   "id": "fb96a35d",
   "metadata": {},
   "outputs": [
    {
     "name": "stdout",
     "output_type": "stream",
     "text": [
      "                              Statistic    Month    Taxation Class    UNIT  \\\n",
      "0  Vehicles Licensed for the First Time  1996M07  New Private Cars  Number   \n",
      "1  Vehicles Licensed for the First Time  1996M08  New Private Cars  Number   \n",
      "2  Vehicles Licensed for the First Time  1996M09  New Private Cars  Number   \n",
      "3  Vehicles Licensed for the First Time  1996M10  New Private Cars  Number   \n",
      "4  Vehicles Licensed for the First Time  1996M11  New Private Cars  Number   \n",
      "\n",
      "   VALUE  \n",
      "0  10959  \n",
      "1   6582  \n",
      "2   5162  \n",
      "3   4815  \n",
      "4   3768  \n",
      "                                Statistic    Month    Taxation Class    UNIT  \\\n",
      "302  Vehicles Licensed for the First Time  2021M09  New Private Cars  Number   \n",
      "303  Vehicles Licensed for the First Time  2021M10  New Private Cars  Number   \n",
      "304  Vehicles Licensed for the First Time  2021M11  New Private Cars  Number   \n",
      "305  Vehicles Licensed for the First Time  2021M12  New Private Cars  Number   \n",
      "306  Vehicles Licensed for the First Time  2022M01  New Private Cars  Number   \n",
      "\n",
      "     VALUE  \n",
      "302   6354  \n",
      "303   3882  \n",
      "304   2167  \n",
      "305    832  \n",
      "306  15814  \n",
      "<class 'pandas.core.frame.DataFrame'>\n",
      "RangeIndex: 307 entries, 0 to 306\n",
      "Data columns (total 5 columns):\n",
      " #   Column          Non-Null Count  Dtype \n",
      "---  ------          --------------  ----- \n",
      " 0   Statistic       307 non-null    object\n",
      " 1   Month           307 non-null    object\n",
      " 2   Taxation Class  307 non-null    object\n",
      " 3   UNIT            307 non-null    object\n",
      " 4   VALUE           307 non-null    int64 \n",
      "dtypes: int64(1), object(4)\n",
      "memory usage: 12.1+ KB\n",
      "None\n",
      "Index(['Statistic', 'Month', 'Taxation Class', 'UNIT', 'VALUE'], dtype='object')\n",
      "(307, 5)\n"
     ]
    }
   ],
   "source": [
    "# Explore new_private_cars_1st_time_registrations\n",
    "print(new_private_cars_1st_time_registrations.head())\n",
    "print(new_private_cars_1st_time_registrations.tail())\n",
    "print(new_private_cars_1st_time_registrations.info())\n",
    "print(new_private_cars_1st_time_registrations.columns)\n",
    "print(new_private_cars_1st_time_registrations.shape)"
   ]
  },
  {
   "cell_type": "code",
   "execution_count": 2345,
   "id": "39bee057",
   "metadata": {},
   "outputs": [
    {
     "name": "stdout",
     "output_type": "stream",
     "text": [
      "Statistic         0\n",
      "Month             0\n",
      "Taxation Class    0\n",
      "UNIT              0\n",
      "VALUE             0\n",
      "dtype: int64\n"
     ]
    }
   ],
   "source": [
    "# Check for NaNs\n",
    "print(new_private_cars_1st_time_registrations.isna().sum())"
   ]
  },
  {
   "cell_type": "code",
   "execution_count": 2346,
   "id": "d7acd618",
   "metadata": {},
   "outputs": [],
   "source": [
    "# Import TEM01.20220212T110244.csv to Pandas\n",
    "used_private_cars_1st_time_registrations = pd.read_csv(\"TEM01.20220212T110244.csv\")"
   ]
  },
  {
   "cell_type": "code",
   "execution_count": 2347,
   "id": "4314a931",
   "metadata": {},
   "outputs": [
    {
     "name": "stdout",
     "output_type": "stream",
     "text": [
      "                              Statistic    Month           Taxation Class  \\\n",
      "0  Vehicles Licensed for the First Time  1996M07  Secondhand Private Cars   \n",
      "1  Vehicles Licensed for the First Time  1996M08  Secondhand Private Cars   \n",
      "2  Vehicles Licensed for the First Time  1996M09  Secondhand Private Cars   \n",
      "3  Vehicles Licensed for the First Time  1996M10  Secondhand Private Cars   \n",
      "4  Vehicles Licensed for the First Time  1996M11  Secondhand Private Cars   \n",
      "\n",
      "     UNIT  VALUE  \n",
      "0  Number   3716  \n",
      "1  Number   3433  \n",
      "2  Number   3608  \n",
      "3  Number   4013  \n",
      "4  Number   3943  \n",
      "                                Statistic    Month           Taxation Class  \\\n",
      "302  Vehicles Licensed for the First Time  2021M09  Secondhand Private Cars   \n",
      "303  Vehicles Licensed for the First Time  2021M10  Secondhand Private Cars   \n",
      "304  Vehicles Licensed for the First Time  2021M11  Secondhand Private Cars   \n",
      "305  Vehicles Licensed for the First Time  2021M12  Secondhand Private Cars   \n",
      "306  Vehicles Licensed for the First Time  2022M01  Secondhand Private Cars   \n",
      "\n",
      "       UNIT  VALUE  \n",
      "302  Number   5056  \n",
      "303  Number   4506  \n",
      "304  Number   4324  \n",
      "305  Number   3385  \n",
      "306  Number   3686  \n",
      "<class 'pandas.core.frame.DataFrame'>\n",
      "RangeIndex: 307 entries, 0 to 306\n",
      "Data columns (total 5 columns):\n",
      " #   Column          Non-Null Count  Dtype \n",
      "---  ------          --------------  ----- \n",
      " 0   Statistic       307 non-null    object\n",
      " 1   Month           307 non-null    object\n",
      " 2   Taxation Class  307 non-null    object\n",
      " 3   UNIT            307 non-null    object\n",
      " 4   VALUE           307 non-null    int64 \n",
      "dtypes: int64(1), object(4)\n",
      "memory usage: 12.1+ KB\n",
      "None\n",
      "Index(['Statistic', 'Month', 'Taxation Class', 'UNIT', 'VALUE'], dtype='object')\n",
      "(307, 5)\n"
     ]
    }
   ],
   "source": [
    "# Explore used_private_cars_1st_time_registrations\n",
    "print(used_private_cars_1st_time_registrations.head())\n",
    "print(used_private_cars_1st_time_registrations.tail())\n",
    "print(used_private_cars_1st_time_registrations.info())\n",
    "print(used_private_cars_1st_time_registrations.columns)\n",
    "print(used_private_cars_1st_time_registrations.shape)"
   ]
  },
  {
   "cell_type": "code",
   "execution_count": 2348,
   "id": "b9ea8e5c",
   "metadata": {},
   "outputs": [
    {
     "name": "stdout",
     "output_type": "stream",
     "text": [
      "Statistic         0\n",
      "Month             0\n",
      "Taxation Class    0\n",
      "UNIT              0\n",
      "VALUE             0\n",
      "dtype: int64\n"
     ]
    }
   ],
   "source": [
    "# Check for NaNs\n",
    "print(used_private_cars_1st_time_registrations.isna().sum())"
   ]
  },
  {
   "cell_type": "code",
   "execution_count": 2349,
   "id": "10bfb682",
   "metadata": {},
   "outputs": [
    {
     "name": "stdout",
     "output_type": "stream",
     "text": [
      "                          Statistic_new    Month Taxation Class_new UNIT_new  \\\n",
      "0  Vehicles Licensed for the First Time  1996M07   New Private Cars   Number   \n",
      "1  Vehicles Licensed for the First Time  1996M08   New Private Cars   Number   \n",
      "2  Vehicles Licensed for the First Time  1996M09   New Private Cars   Number   \n",
      "3  Vehicles Licensed for the First Time  1996M10   New Private Cars   Number   \n",
      "4  Vehicles Licensed for the First Time  1996M11   New Private Cars   Number   \n",
      "\n",
      "   VALUE_new                        Statistic_used      Taxation Class_used  \\\n",
      "0      10959  Vehicles Licensed for the First Time  Secondhand Private Cars   \n",
      "1       6582  Vehicles Licensed for the First Time  Secondhand Private Cars   \n",
      "2       5162  Vehicles Licensed for the First Time  Secondhand Private Cars   \n",
      "3       4815  Vehicles Licensed for the First Time  Secondhand Private Cars   \n",
      "4       3768  Vehicles Licensed for the First Time  Secondhand Private Cars   \n",
      "\n",
      "  UNIT_used  VALUE_used  \n",
      "0    Number        3716  \n",
      "1    Number        3433  \n",
      "2    Number        3608  \n",
      "3    Number        4013  \n",
      "4    Number        3943  \n"
     ]
    }
   ],
   "source": [
    "# Merge Pandas DataFrames\n",
    "private_cars_1st_time_registrations = pd.merge_ordered(new_private_cars_1st_time_registrations, used_private_cars_1st_time_registrations, on = \"Month\", suffixes = (\"_new\",\"_used\"))\n",
    "print(private_cars_1st_time_registrations.head())"
   ]
  },
  {
   "cell_type": "code",
   "execution_count": 2350,
   "id": "c3f4d41c",
   "metadata": {},
   "outputs": [
    {
     "name": "stdout",
     "output_type": "stream",
     "text": [
      "                                Statistic_new Taxation Class_new UNIT_new  \\\n",
      "Month                                                                       \n",
      "2017M01  Vehicles Licensed for the First Time   New Private Cars   Number   \n",
      "2017M02  Vehicles Licensed for the First Time   New Private Cars   Number   \n",
      "2017M03  Vehicles Licensed for the First Time   New Private Cars   Number   \n",
      "\n",
      "         VALUE_new                        Statistic_used  \\\n",
      "Month                                                      \n",
      "2017M01      26668  Vehicles Licensed for the First Time   \n",
      "2017M02      16905  Vehicles Licensed for the First Time   \n",
      "2017M03      17180  Vehicles Licensed for the First Time   \n",
      "\n",
      "             Taxation Class_used UNIT_used  VALUE_used  \n",
      "Month                                                   \n",
      "2017M01  Secondhand Private Cars    Number        6798  \n",
      "2017M02  Secondhand Private Cars    Number        7723  \n",
      "2017M03  Secondhand Private Cars    Number        8335  \n",
      "                                Statistic_new Taxation Class_new UNIT_new  \\\n",
      "Month                                                                       \n",
      "2021M10  Vehicles Licensed for the First Time   New Private Cars   Number   \n",
      "2021M11  Vehicles Licensed for the First Time   New Private Cars   Number   \n",
      "2021M12  Vehicles Licensed for the First Time   New Private Cars   Number   \n",
      "\n",
      "         VALUE_new                        Statistic_used  \\\n",
      "Month                                                      \n",
      "2021M10       3882  Vehicles Licensed for the First Time   \n",
      "2021M11       2167  Vehicles Licensed for the First Time   \n",
      "2021M12        832  Vehicles Licensed for the First Time   \n",
      "\n",
      "             Taxation Class_used UNIT_used  VALUE_used  \n",
      "Month                                                   \n",
      "2021M10  Secondhand Private Cars    Number        4506  \n",
      "2021M11  Secondhand Private Cars    Number        4324  \n",
      "2021M12  Secondhand Private Cars    Number        3385  \n",
      "(60, 8)\n"
     ]
    }
   ],
   "source": [
    "# Subsetting with Indexes to only get data from 2017-01 to 2021-12\n",
    "private_cars_1st_time_registrations = private_cars_1st_time_registrations.set_index(\"Month\").sort_index()\n",
    "car_registrations_from_2017_to_2021 = private_cars_1st_time_registrations[\"2017M01\":\"2021M12\"]\n",
    "print(car_registrations_from_2017_to_2021.head(3))\n",
    "print(car_registrations_from_2017_to_2021.tail(3))\n",
    "print(car_registrations_from_2017_to_2021.shape)"
   ]
  },
  {
   "cell_type": "code",
   "execution_count": 2351,
   "id": "8b5d7985",
   "metadata": {},
   "outputs": [
    {
     "name": "stdout",
     "output_type": "stream",
     "text": [
      "         VALUE_new  VALUE_used\n",
      "Month                         \n",
      "2017M01      26668        6798\n",
      "2017M02      16905        7723\n",
      "2017M03      17180        8335\n",
      "2017M04      13427        7272\n",
      "2017M05       9581        7732\n"
     ]
    }
   ],
   "source": [
    "# Dropping Unwanted Columns\n",
    "car_registrations_from_2017_to_2021 = car_registrations_from_2017_to_2021.drop([\"Statistic_new\",\"Taxation Class_new\",\"UNIT_new\",\"Statistic_used\",\"Taxation Class_used\",\"UNIT_used\"], axis = 1)\n",
    "print(car_registrations_from_2017_to_2021.head())"
   ]
  },
  {
   "cell_type": "code",
   "execution_count": 2352,
   "id": "53e6d667",
   "metadata": {},
   "outputs": [
    {
     "name": "stdout",
     "output_type": "stream",
     "text": [
      "         New-Car-Registrations  Used-Car-Registrations\n",
      "Month                                                 \n",
      "2017M01                  26668                    6798\n",
      "2017M02                  16905                    7723\n",
      "2017M03                  17180                    8335\n",
      "2017M04                  13427                    7272\n",
      "2017M05                   9581                    7732\n"
     ]
    }
   ],
   "source": [
    "# Rename Columns\n",
    "car_registrations_from_2017_to_2021 = car_registrations_from_2017_to_2021.rename({\"VALUE_new\" : \"New-Car-Registrations\" , \"VALUE_used\" : \"Used-Car-Registrations\"},axis = 1)\n",
    "print(car_registrations_from_2017_to_2021.head())"
   ]
  },
  {
   "cell_type": "code",
   "execution_count": 2353,
   "id": "cf516b2d",
   "metadata": {},
   "outputs": [
    {
     "name": "stdout",
     "output_type": "stream",
     "text": [
      "         New-Car-Registrations  Used-Car-Registrations\n",
      "2017-01                  26668                    6798\n",
      "2017-02                  16905                    7723\n",
      "2017-03                  17180                    8335\n",
      "2017-04                  13427                    7272\n",
      "2017-05                   9581                    7732\n"
     ]
    }
   ],
   "source": [
    "# Using for loop to Format Dates to International Standard\n",
    "car_registrations_from_2017_to_2021.index = [x.replace(\"M\",\"-\") for x in car_registrations_from_2017_to_2021.index]\n",
    "print(car_registrations_from_2017_to_2021.head())"
   ]
  },
  {
   "cell_type": "code",
   "execution_count": 2354,
   "id": "44f3e566",
   "metadata": {},
   "outputs": [
    {
     "data": {
      "image/png": "[encoded data removed]",
      "text/plain": [
       "<Figure size 1440x504 with 1 Axes>"
      ]
     },
     "metadata": {},
     "output_type": "display_data"
    }
   ],
   "source": [
    "# Plotting\n",
    "plt.style.use(\"seaborn-colorblind\")\n",
    "fig, ax = plt.subplots()\n",
    "ax.plot(car_registrations_from_2017_to_2021[\"New-Car-Registrations\"], label = \"New\",)\n",
    "ax.plot(car_registrations_from_2017_to_2021[\"Used-Car-Registrations\"], label = \"Used\", color=\"red\")\n",
    "ax.set_xlabel(\"Time(months)\")\n",
    "ax.set_ylabel(\"Car Registrations(quantity)\")\n",
    "\n",
    "plt.title(\"2017 to 2021 Car Registrations\")\n",
    "plt.xticks(rotation = 70, fontsize=10)\n",
    "plt.legend(loc='upper right', prop={'size': 20})\n",
    "fig.set_size_inches([20,7])\n",
    "fig.savefig(\"2017_to_2021_Car_Registrations.png\",dpi=300)\n",
    "plt.show()\n"
   ]
  },
  {
   "cell_type": "code",
   "execution_count": 2355,
   "id": "94755735",
   "metadata": {},
   "outputs": [],
   "source": [
    "## Top Selling New Cars 2021"
   ]
  },
  {
   "cell_type": "code",
   "execution_count": 2356,
   "id": "2437c9ff",
   "metadata": {},
   "outputs": [],
   "source": [
    "##Atempted to import dataset through API but ran into issues\n",
    "#newcars = requests.get()  \n",
    "#pd.DataFrame(newcars.json()).head() "
   ]
  },
  {
   "cell_type": "code",
   "execution_count": 2357,
   "id": "a79b1e02",
   "metadata": {},
   "outputs": [],
   "source": [
    "# Import Dataset to Pandas DataFrame\n",
    "newcars = pd.read_csv(\"TEA28.20220213T180245.csv\")"
   ]
  },
  {
   "cell_type": "code",
   "execution_count": 2358,
   "id": "a87277ef",
   "metadata": {},
   "outputs": [
    {
     "name": "stdout",
     "output_type": "stream",
     "text": [
      "                                      Statistic  Year        Make and Model  \\\n",
      "0  New Private Cars Licensed for the First Time  2021  Alfa Romeo Giulietta   \n",
      "1  New Private Cars Licensed for the First Time  2021     Alfa Romeo Giulia   \n",
      "2  New Private Cars Licensed for the First Time  2021    Alfa Romeo Stelvio   \n",
      "3  New Private Cars Licensed for the First Time  2021               Audi TT   \n",
      "4  New Private Cars Licensed for the First Time  2021               Audi A3   \n",
      "\n",
      "     UNIT  VALUE  \n",
      "0  Number   10.0  \n",
      "1  Number   22.0  \n",
      "2  Number    7.0  \n",
      "3  Number    6.0  \n",
      "4  Number  792.0  \n",
      "                                             Statistic  Year Make and Model  \\\n",
      "491  New Private Cars Licensed for the First Time Rank  2021      Volvo S90   \n",
      "492  New Private Cars Licensed for the First Time Rank  2021      Volvo V90   \n",
      "493  New Private Cars Licensed for the First Time Rank  2021     Volvo XC40   \n",
      "494  New Private Cars Licensed for the First Time Rank  2021          Other   \n",
      "495  New Private Cars Licensed for the First Time Rank  2021     All models   \n",
      "\n",
      "       UNIT  VALUE  \n",
      "491  Number  150.0  \n",
      "492  Number  182.0  \n",
      "493  Number   63.0  \n",
      "494  Number    NaN  \n",
      "495  Number    NaN  \n",
      "<class 'pandas.core.frame.DataFrame'>\n",
      "RangeIndex: 496 entries, 0 to 495\n",
      "Data columns (total 5 columns):\n",
      " #   Column          Non-Null Count  Dtype  \n",
      "---  ------          --------------  -----  \n",
      " 0   Statistic       496 non-null    object \n",
      " 1   Year            496 non-null    int64  \n",
      " 2   Make and Model  496 non-null    object \n",
      " 3   UNIT            496 non-null    object \n",
      " 4   VALUE           464 non-null    float64\n",
      "dtypes: float64(1), int64(1), object(3)\n",
      "memory usage: 19.5+ KB\n",
      "None\n",
      "Index(['Statistic', 'Year', 'Make and Model', 'UNIT', 'VALUE'], dtype='object')\n",
      "(496, 5)\n"
     ]
    }
   ],
   "source": [
    "# Exploring Data\n",
    "print(newcars.head())\n",
    "print(newcars.tail())\n",
    "print(newcars.info())\n",
    "print(newcars.columns)\n",
    "print(newcars.shape)"
   ]
  },
  {
   "cell_type": "code",
   "execution_count": 2359,
   "id": "04aa7223",
   "metadata": {},
   "outputs": [
    {
     "name": "stdout",
     "output_type": "stream",
     "text": [
      "Statistic          0\n",
      "Year               0\n",
      "Make and Model     0\n",
      "UNIT               0\n",
      "VALUE             32\n",
      "dtype: int64\n"
     ]
    }
   ],
   "source": [
    "# Dealing with NaNs in Dataset\n",
    "print(newcars.isna().sum())"
   ]
  },
  {
   "cell_type": "code",
   "execution_count": 2360,
   "id": "c7cea0c6",
   "metadata": {},
   "outputs": [
    {
     "name": "stdout",
     "output_type": "stream",
     "text": [
      "6.451612903225806\n"
     ]
    }
   ],
   "source": [
    "# Creating my function to find out percentage of NaNs in Dataset\n",
    "def my_func(a):\n",
    "    percentage = (a/newcars.shape[0])*100\n",
    "    return percentage\n",
    "\n",
    "# Using my function to find out percentage of NaNs in VALUE Column\n",
    "print(my_func(32))"
   ]
  },
  {
   "cell_type": "code",
   "execution_count": 2361,
   "id": "b6f4b1fd",
   "metadata": {},
   "outputs": [],
   "source": [
    "# Dropping NaNs from Dataset\n",
    "newcars = newcars.dropna()"
   ]
  },
  {
   "cell_type": "code",
   "execution_count": 2362,
   "id": "8214f020",
   "metadata": {},
   "outputs": [
    {
     "name": "stdout",
     "output_type": "stream",
     "text": [
      "                                              Year Make and Model    UNIT  \\\n",
      "Statistic                                                                   \n",
      "New Private Cars Licensed for the First Time  2021      Volvo S90  Number   \n",
      "New Private Cars Licensed for the First Time  2021      Volvo V90  Number   \n",
      "New Private Cars Licensed for the First Time  2021     Volvo XC40  Number   \n",
      "New Private Cars Licensed for the First Time  2021          Other  Number   \n",
      "New Private Cars Licensed for the First Time  2021     All models  Number   \n",
      "\n",
      "                                                 VALUE  \n",
      "Statistic                                               \n",
      "New Private Cars Licensed for the First Time      36.0  \n",
      "New Private Cars Licensed for the First Time      14.0  \n",
      "New Private Cars Licensed for the First Time     516.0  \n",
      "New Private Cars Licensed for the First Time    2845.0  \n",
      "New Private Cars Licensed for the First Time  101853.0  \n",
      "(248, 4)\n"
     ]
    }
   ],
   "source": [
    "# Subsetting with Indexes to only get data for \"New Private Cars Licensed for the First Time\"\n",
    "newcars = newcars.set_index(\"Statistic\")\n",
    "newcars = newcars.loc[:\"New Private Cars Licensed for the First Time\"]\n",
    "print(newcars.tail())\n",
    "print(newcars.shape)"
   ]
  },
  {
   "cell_type": "code",
   "execution_count": 2363,
   "id": "0badeb5f",
   "metadata": {},
   "outputs": [
    {
     "name": "stdout",
     "output_type": "stream",
     "text": [
      "                                      Statistic  Year        Make and Model  \\\n",
      "0  New Private Cars Licensed for the First Time  2021  Alfa Romeo Giulietta   \n",
      "1  New Private Cars Licensed for the First Time  2021     Alfa Romeo Giulia   \n",
      "2  New Private Cars Licensed for the First Time  2021    Alfa Romeo Stelvio   \n",
      "3  New Private Cars Licensed for the First Time  2021               Audi TT   \n",
      "4  New Private Cars Licensed for the First Time  2021               Audi A3   \n",
      "\n",
      "     UNIT  VALUE  \n",
      "0  Number   10.0  \n",
      "1  Number   22.0  \n",
      "2  Number    7.0  \n",
      "3  Number    6.0  \n",
      "4  Number  792.0  \n"
     ]
    }
   ],
   "source": [
    "# Reset Index\n",
    "newcars = newcars.reset_index()\n",
    "print(newcars.head())"
   ]
  },
  {
   "cell_type": "code",
   "execution_count": 2364,
   "id": "8c345537",
   "metadata": {},
   "outputs": [
    {
     "name": "stdout",
     "output_type": "stream",
     "text": [
      "(248, 4)\n"
     ]
    }
   ],
   "source": [
    "# Subsetting with Indexes to only get Data for 2021\n",
    "newcars = newcars.set_index(\"Year\").sort_index()\n",
    "cars2021 = newcars.loc[\"2021\":]\n",
    "print(cars2021.shape)"
   ]
  },
  {
   "cell_type": "code",
   "execution_count": 2365,
   "id": "35349ab3",
   "metadata": {},
   "outputs": [
    {
     "name": "stdout",
     "output_type": "stream",
     "text": [
      "                                         Statistic        Make and Model  \\\n",
      "Year                                                                       \n",
      "2021  New Private Cars Licensed for the First Time  Alfa Romeo Giulietta   \n",
      "2021  New Private Cars Licensed for the First Time     Alfa Romeo Giulia   \n",
      "2021  New Private Cars Licensed for the First Time    Alfa Romeo Stelvio   \n",
      "2021  New Private Cars Licensed for the First Time               Audi TT   \n",
      "2021  New Private Cars Licensed for the First Time               Audi A3   \n",
      "\n",
      "        UNIT  VALUE  \n",
      "Year                 \n",
      "2021  Number   10.0  \n",
      "2021  Number   22.0  \n",
      "2021  Number    7.0  \n",
      "2021  Number    6.0  \n",
      "2021  Number  792.0  \n"
     ]
    }
   ],
   "source": [
    "# Reset Index\n",
    "cars2021 = cars2021.reset_index()\n",
    "print(newcars.head())"
   ]
  },
  {
   "cell_type": "code",
   "execution_count": 2366,
   "id": "7cf9874d",
   "metadata": {},
   "outputs": [
    {
     "name": "stdout",
     "output_type": "stream",
     "text": [
      "         Make and Model  VALUE\n",
      "0  Alfa Romeo Giulietta   10.0\n",
      "1     Alfa Romeo Giulia   22.0\n",
      "2    Alfa Romeo Stelvio    7.0\n",
      "3               Audi TT    6.0\n",
      "4               Audi A3  792.0\n",
      "(248, 2)\n"
     ]
    }
   ],
   "source": [
    "# Dropping Columns\n",
    "cars2021 = cars2021[[\"Make and Model\",\"VALUE\"]]\n",
    "print(cars2021.head())\n",
    "print(cars2021.shape)"
   ]
  },
  {
   "cell_type": "code",
   "execution_count": 2367,
   "id": "3e42b513",
   "metadata": {},
   "outputs": [
    {
     "name": "stdout",
     "output_type": "stream",
     "text": [
      "         Make and Model  Registered\n",
      "0  Alfa Romeo Giulietta        10.0\n",
      "1     Alfa Romeo Giulia        22.0\n",
      "2    Alfa Romeo Stelvio         7.0\n",
      "3               Audi TT         6.0\n",
      "4               Audi A3       792.0\n"
     ]
    }
   ],
   "source": [
    "# Rename Columns\n",
    "cars2021 = cars2021.rename({\"VALUE\":\"Registered\"}, axis = 1)\n",
    "print(cars2021.head())"
   ]
  },
  {
   "cell_type": "code",
   "execution_count": 2368,
   "id": "e960269b",
   "metadata": {},
   "outputs": [
    {
     "name": "stdout",
     "output_type": "stream",
     "text": [
      "['Alfa Romeo Giulietta' 'Alfa Romeo Giulia' 'Alfa Romeo Stelvio' 'Audi TT'\n",
      " 'Audi A3' 'Audi A4' 'Audi A6' 'Audi A8' 'Audi Q7' 'Audi S5' 'Audi A5'\n",
      " 'Audi Q5' 'Audi A1' 'Audi A7' 'Audi Q3' 'Audi Q2' 'Audi Q8' 'Audi e-tron'\n",
      " 'BMW 5 Series' 'BMW 7 Series' 'BMW X5' 'BMW 6 Series' 'BMW X3' 'BMW M5'\n",
      " 'BMW 8 Series' 'BMW 3 Series' 'BMW X1' 'BMW 1 Series' 'BMW 4 Series'\n",
      " 'BMW i3' 'BMW 2 Series' 'BMW M4' 'BMW X4' 'BMW M2' 'BMW X2' 'BMW X7'\n",
      " 'BMW iX' 'Citroen C3' 'Citroen C4' 'Citroen C1' 'Citroen DS3'\n",
      " 'Citroen C4 Cactus' 'Citroen Grand C4 Spacetourer' 'Citroen C3 Aircross'\n",
      " 'Citroen C5 Aircross' 'Cupra Formentor' 'Dacia Sandero' 'Dacia Duster'\n",
      " 'Dacia Logan' 'Fiat Punto' 'Fiat Tipo' 'Fiat 500' 'Fiat Panda'\n",
      " 'Fiat 500L' 'Fiat 500X' 'Ford Fiesta' 'Ford Mondeo' 'Ford Galaxy'\n",
      " 'Ford Puma' 'Ford Ka' 'Ford Focus' 'Ford C-Max' 'Ford Kuga'\n",
      " 'Ford Grand C-Max' 'Ford Ecosport' 'Ford Mustang' 'Ford Edge'\n",
      " 'Honda Civic' 'Honda Jazz' 'Honda CR-V' 'Honda HR-V' 'Hyundai Santa Fe'\n",
      " 'Hyundai Tucson' 'Hyundai i30' 'Hyundai i10' 'Hyundai i20' 'Hyundai ix35'\n",
      " 'Hyundai ix20' 'Hyundai i40' 'Hyundai Ioniq' 'Hyundai Kona'\n",
      " 'Hyundai Bayon' 'Jaguar XF' 'Jaguar XE' 'Jaguar F-Pace' 'Jaguar E-Pace'\n",
      " 'Jaguar I-Pace' 'Jeep Renegade' 'Jeep Compass' 'Kia Sportage'\n",
      " 'Kia Carens' 'Kia Rio' 'Kia Sorento' 'Kia Picanto' 'Kia Ceed'\n",
      " 'Kia Pro_Ceed' 'Kia Soul' 'Kia Venga' 'Kia Optima' 'Kia Niro'\n",
      " 'Kia Stonic' 'Kia Stinger' 'Kia XCeed' 'KIA EV' 'Landrover Discovery'\n",
      " 'Landrover Range Rover' 'Landrover Range Rover Sport'\n",
      " 'Landrover Discovery Sport' 'Landrover Range Rover Evoque'\n",
      " 'Landrover Range Rover Velar' 'Lexus IS' 'Lexus GS' 'Lexus LS' 'Lexus RX'\n",
      " 'Lexus CT' 'Lexus NX' 'Lexus RC' 'Lexus ES' 'Lexus UX' 'Mazda 6'\n",
      " 'Mazda 2' 'Mazda 3' 'Mazda MX-5' 'Mazda CX-5' 'Mazda CX-3' 'Mazda CX-30'\n",
      " 'Mercedes Benz S Class' 'Mercedes Benz C Class' 'Mercedes Benz E Class'\n",
      " 'Mercedes Benz B Class' 'Mercedes Benz CLS' 'Mercedes Benz A Class'\n",
      " 'Mercedes Benz CLA' 'Mercedes Benz GLA' 'Mercedes Benz GLE'\n",
      " 'Mercedes Benz GLC' 'Mercedes Benz EQC' 'Mercedes-Benz GLB' 'MG ZS EV'\n",
      " 'Mini' 'Mitsubishi Lancer' 'Mitsubishi Spacestar' 'Mitsubishi Outlander'\n",
      " 'Mitsubishi ASX' 'Mitsubishi Eclipse Cross' 'Nissan Micra'\n",
      " 'Nissan Pulsar' 'Nissan X-Trail' 'Nissan Note' 'Nissan Qashqai'\n",
      " 'Nissan Juke' 'Nissan Leaf' 'Opel Corsa' 'Opel Astra' 'Opel Zafira'\n",
      " 'Opel Insignia' 'Opel Mokka X' 'Opel Adam' 'Opel Karl' 'Opel Crossland X'\n",
      " 'Opel Grandland X' 'Peugeot 308' 'Peugeot 3008' 'Peugeot 5008'\n",
      " 'Peugeot 508' 'Peugeot 208' 'Peugeot 2008' 'Peugeot 108' 'Peugeot Rifter'\n",
      " 'Porsche 911' 'Porsche Cayenne' 'Porsche Panamera' 'Porsche Macan'\n",
      " 'Renault Clio' 'Renault Megane' 'Renault Scenic' 'Renault Grand Scenic'\n",
      " 'Renault Koleos' 'Renault Fluence' 'Renault Captur' 'Renault Zoe'\n",
      " 'Renault Kadjar' 'Renault Arkana' 'Seat Ibiza' 'Seat Toledo'\n",
      " 'Seat Alhambra' 'Seat Leon' 'Seat Mii' 'Seat Ateca' 'Seat Arona'\n",
      " 'Seat Tarraco' 'Skoda Octavia' 'Skoda Fabia' 'Skoda Superb' 'Skoda Yeti'\n",
      " 'Skoda Citigo' 'Skoda Rapid' 'Skoda Kodiaq' 'Skoda Karoq' 'Skoda Scala'\n",
      " 'Skoda Kamiq' 'Ssangyong Tivoli' 'Subaru Impreza' 'Subaru Forester'\n",
      " 'Subaru XV' 'Suzuki Swift' 'Suzuki Baleno' 'Suzuki Ignis' 'Suzuki Vitara'\n",
      " 'Suzuki SX4' 'Suzuki Celerio' 'Tesla Model 3' 'Tesla Model S'\n",
      " 'Tesla Model X' 'Toyota Camry' 'Toyota Rav4' 'Toyota Avensis'\n",
      " 'Toyota Yaris' 'Toyota Prius' 'Toyota Aygo' 'Toyota Corolla'\n",
      " 'Toyota Auris' 'Toyota Verso' 'Toyota C-HR' 'Volkswagen Passat'\n",
      " 'Volkswagen Golf' 'Volkswagen Polo' 'Volkswagen Jetta'\n",
      " 'Volkswagen Sharan' 'Volkswagen Beetle' 'Volkswagen Touran'\n",
      " 'Volkswagen Tiguan' 'Volkswagen Up' 'Volkswagen Arteon'\n",
      " 'Volkswagen T-Roc' 'Volkswagen T-Cross' 'Volkswagen ID.3'\n",
      " 'Volkswagen ID.4' 'Volvo S60' 'Volvo XC90' 'Volvo V40' 'Volvo XC60'\n",
      " 'Volvo V60' 'Volvo S90' 'Volvo V90' 'Volvo XC40' 'Other' 'All models']\n",
      "(248, 2)\n"
     ]
    }
   ],
   "source": [
    "# Check Unique Values in Make and Model column\n",
    "cars2021_unique_values = cars2021[\"Make and Model\"].unique()\n",
    "print(cars2021_unique_values)\n",
    "print(cars2021.shape)"
   ]
  },
  {
   "cell_type": "code",
   "execution_count": 2369,
   "id": "564801b4",
   "metadata": {},
   "outputs": [
    {
     "name": "stdout",
     "output_type": "stream",
     "text": [
      "(246, 1)\n"
     ]
    }
   ],
   "source": [
    "# Remove unwanted values through Indexes\n",
    "cars2021 = cars2021.set_index(\"Make and Model\")\n",
    "cars2021.drop([\"Other\",\"All models\"], axis=0, inplace=True)\n",
    "print(cars2021.shape)"
   ]
  },
  {
   "cell_type": "code",
   "execution_count": 2370,
   "id": "5b48b30a",
   "metadata": {},
   "outputs": [
    {
     "name": "stdout",
     "output_type": "stream",
     "text": [
      "         Make and Model  Registered\n",
      "0  Alfa Romeo Giulietta        10.0\n",
      "1     Alfa Romeo Giulia        22.0\n",
      "2    Alfa Romeo Stelvio         7.0\n",
      "3               Audi TT         6.0\n",
      "4               Audi A3       792.0\n"
     ]
    }
   ],
   "source": [
    "# Reset Index\n",
    "cars2021 = cars2021.reset_index()\n",
    "print(cars2021.head())"
   ]
  },
  {
   "cell_type": "code",
   "execution_count": 2371,
   "id": "33bed4da",
   "metadata": {},
   "outputs": [
    {
     "name": "stdout",
     "output_type": "stream",
     "text": [
      "Make and Model     object\n",
      "Registered        float64\n",
      "dtype: object\n",
      "         Make and Model  Registered\n",
      "0  Alfa Romeo Giulietta          10\n",
      "1     Alfa Romeo Giulia          22\n",
      "2    Alfa Romeo Stelvio           7\n",
      "3               Audi TT           6\n",
      "4               Audi A3         792\n"
     ]
    }
   ],
   "source": [
    "# Change Data Type\n",
    "print(cars2021.dtypes)\n",
    "cars2021[\"Registered\"] = cars2021[\"Registered\"].astype(int)\n",
    "print(cars2021.head())"
   ]
  },
  {
   "cell_type": "code",
   "execution_count": 2372,
   "id": "bfac4445",
   "metadata": {},
   "outputs": [],
   "source": [
    "# Change Name\n",
    "cars_registered_2021 = cars2021"
   ]
  },
  {
   "cell_type": "code",
   "execution_count": 2373,
   "id": "ccf3f6fd",
   "metadata": {},
   "outputs": [
    {
     "name": "stdout",
     "output_type": "stream",
     "text": [
      "        Make and Model  Registered\n",
      "72      Hyundai Tucson        4948\n",
      "220     Toyota Corolla        4161\n",
      "217       Toyota Yaris        2718\n",
      "231  Volkswagen Tiguan        2502\n",
      "191      Skoda Octavia        2479\n"
     ]
    }
   ],
   "source": [
    "# Sort by Cars Registered\n",
    "cars_registered_2021 = cars_registered_2021.sort_values(\"Registered\", ascending = False)\n",
    "print(cars_registered_2021.head())"
   ]
  },
  {
   "cell_type": "code",
   "execution_count": 2374,
   "id": "18c0402f",
   "metadata": {},
   "outputs": [
    {
     "name": "stdout",
     "output_type": "stream",
     "text": [
      "                   Registered\n",
      "Make and Model               \n",
      "Hyundai Tucson           4948\n",
      "Toyota Corolla           4161\n",
      "Toyota Yaris             2718\n",
      "Volkswagen Tiguan        2502\n",
      "Skoda Octavia            2479\n"
     ]
    }
   ],
   "source": [
    "# Subset Top 5 Most Popular Cars for 2021\n",
    "top_5_most_popular_cars_for_2021 = cars_registered_2021.head(5)\n",
    "top_5_most_popular_cars_for_2021 = top_5_most_popular_cars_for_2021.set_index(\"Make and Model\")\n",
    "print(top_5_most_popular_cars_for_2021)"
   ]
  },
  {
   "cell_type": "code",
   "execution_count": 2375,
   "id": "2cad1a5c",
   "metadata": {},
   "outputs": [
    {
     "name": "stderr",
     "output_type": "stream",
     "text": [
      "C:\\Users\\Ross Coleman\\AppData\\Local\\Temp\\ipykernel_9464\\2018655785.py:7: UserWarning: FixedFormatter should only be used together with FixedLocator\n",
      "  ax.set_xticklabels(top_5_most_popular_cars_for_2021.index, rotation = 45, fontsize = 15)\n"
     ]
    },
    {
     "data": {
      "image/png": "[encoded data removed]",
      "text/plain": [
       "<Figure size 1440x1008 with 1 Axes>"
      ]
     },
     "metadata": {},
     "output_type": "display_data"
    }
   ],
   "source": [
    "# Plotting\n",
    "plt.style.use(\"seaborn-colorblind\")\n",
    "fig, ax = plt.subplots()\n",
    "ax.bar(top_5_most_popular_cars_for_2021.index, top_5_most_popular_cars_for_2021[\"Registered\"], color=['gold', 'red', 'red', 'blue', 'green'] )\n",
    "ax.set_ylabel(\"Cars Registered\", fontsize = 15)\n",
    "plt.title(\"Top 5 Most Popular Cars in 2021\", fontsize = 23)\n",
    "ax.set_xticklabels(top_5_most_popular_cars_for_2021.index, rotation = 45, fontsize = 15)\n",
    "fig.set_size_inches([20,14])\n",
    "fig.savefig(\"Top_5_Most_Popular_Cars_in_2021.png\",dpi=300)\n",
    "plt.show()\n"
   ]
  },
  {
   "cell_type": "code",
   "execution_count": 2376,
   "id": "5e236ef3",
   "metadata": {},
   "outputs": [],
   "source": [
    "## 2021 Market Demand of High-End Cars VS Mid-Range Cars"
   ]
  },
  {
   "cell_type": "code",
   "execution_count": 2377,
   "id": "be1fceb0",
   "metadata": {},
   "outputs": [
    {
     "name": "stdout",
     "output_type": "stream",
     "text": [
      "     index     Make and Model  Registered\n",
      "206    112           Lexus LS           2\n",
      "207    232      Volkswagen Up           1\n",
      "208    114           Lexus CT           1\n",
      "209    221       Toyota Auris           1\n",
      "210    213      Tesla Model X           1\n",
      "211     61         Ford C-Max           1\n",
      "212    146      Nissan Pulsar           1\n",
      "213     63   Ford Grand C-Max           1\n",
      "214    116           Lexus RC           1\n",
      "215     49         Fiat Punto           1\n",
      "216    110           Lexus IS           0\n",
      "217    111           Lexus GS           0\n",
      "218    101        Kia Stinger           0\n",
      "219    240          Volvo V40           0\n",
      "220    229  Volkswagen Beetle           0\n",
      "221     97          Kia Venga           0\n",
      "222    228  Volkswagen Sharan           0\n",
      "223    227   Volkswagen Jetta           0\n",
      "224     90         Kia Carens           0\n",
      "225      9            Audi S5           0\n",
      "226    187           Seat Mii           0\n",
      "227     78        Hyundai i40           0\n",
      "228     59            Ford Ka           0\n",
      "229    184        Seat Toledo           0\n",
      "230    178    Renault Fluence           0\n",
      "231    194         Skoda Yeti           0\n",
      "232    195       Skoda Citigo           0\n",
      "233    158          Opel Karl           0\n",
      "234    202     Subaru Impreza           0\n",
      "235    157          Opel Adam           0\n",
      "236    206      Suzuki Baleno           0\n",
      "237    222       Toyota Verso           0\n",
      "238    148        Nissan Note           0\n",
      "239    210     Suzuki Celerio           0\n",
      "240    140  Mitsubishi Lancer           0\n",
      "241     66          Ford Edge           0\n",
      "242    216     Toyota Avensis           0\n",
      "243     76       Hyundai ix35           0\n",
      "244     21       BMW 6 Series           0\n",
      "245     23             BMW M5           0\n",
      "     index    Make and Model  Registered\n",
      "213     63  Ford Grand C-Max           1\n",
      "214    116          Lexus RC           1\n",
      "215     49        Fiat Punto           1\n"
     ]
    }
   ],
   "source": [
    "# Subsetting with Indexes to only get Data for 2021\n",
    "car_brands = cars_registered_2021.reset_index()\n",
    "print(car_brands.tail(40))\n",
    "car_brands = car_brands.loc[:215]\n",
    "print(car_brands.tail(3))"
   ]
  },
  {
   "cell_type": "code",
   "execution_count": 2378,
   "id": "2b70f042",
   "metadata": {},
   "outputs": [
    {
     "name": "stdout",
     "output_type": "stream",
     "text": [
      "   index     Make and Model  Registered        Make\n",
      "0     72     Hyundai Tucson        4948     Hyundai\n",
      "1    220     Toyota Corolla        4161      Toyota\n",
      "2    217       Toyota Yaris        2718      Toyota\n",
      "3    231  Volkswagen Tiguan        2502  Volkswagen\n",
      "4    191      Skoda Octavia        2479       Skoda\n"
     ]
    }
   ],
   "source": [
    "# Adding Column for Car Make\n",
    "make = car_brands[\"Make and Model\"].str.split(\" \", n = 1, expand = True)\n",
    "car_brands[\"Make\"] = make[0]\n",
    "print(car_brands.head())"
   ]
  },
  {
   "cell_type": "code",
   "execution_count": 2379,
   "id": "a16b99f8",
   "metadata": {},
   "outputs": [
    {
     "name": "stdout",
     "output_type": "stream",
     "text": [
      "['Hyundai' 'Toyota' 'Volkswagen' 'Skoda' 'Ford' 'Kia' 'Peugeot' 'Nissan'\n",
      " 'Renault' 'Seat' 'Dacia' 'BMW' 'Tesla' 'Opel' 'Mercedes' 'Audi' 'Suzuki'\n",
      " 'Mini' 'Volvo' 'Mercedes-Benz' 'Citroen' 'Landrover' 'Honda' 'Mazda' 'MG'\n",
      " 'Mitsubishi' 'Cupra' 'Lexus' 'Fiat' 'Jaguar' 'Porsche' 'KIA' 'Ssangyong'\n",
      " 'Alfa' 'Subaru' 'Jeep']\n"
     ]
    }
   ],
   "source": [
    "# Identifying All Car Makes sold in Ireland\n",
    "car_brands_unique = car_brands[\"Make\"].unique()\n",
    "print(car_brands_unique)"
   ]
  },
  {
   "cell_type": "code",
   "execution_count": 2380,
   "id": "fac502a7",
   "metadata": {},
   "outputs": [
    {
     "name": "stdout",
     "output_type": "stream",
     "text": [
      "   index     Make and Model  Registered        Make Classification\n",
      "0     72     Hyundai Tucson        4948     Hyundai      Mid-Range\n",
      "1    220     Toyota Corolla        4161      Toyota      Mid-Range\n",
      "2    217       Toyota Yaris        2718      Toyota      Mid-Range\n",
      "3    231  Volkswagen Tiguan        2502  Volkswagen      Mid-Range\n",
      "4    191      Skoda Octavia        2479       Skoda      Mid-Range\n"
     ]
    }
   ],
   "source": [
    "# Using a list to Classify Car Makes in terms of Market Segment and adding Data to New Column with np.where\n",
    "premium_dict={'BMW', 'Tesla', 'Mercedes', 'Audi', 'Mercedes-Benz', 'Landrover', 'Cupra', 'Lexus', 'Jaguar', 'Porsche', 'Jeep'}\n",
    "car_brands[\"Classification\"] = np.where(car_brands[\"Make\"].isin(premium_dict),\"High-End\", \"Mid-Range\")\n",
    "print(car_brands.head())"
   ]
  },
  {
   "cell_type": "code",
   "execution_count": 2381,
   "id": "4d56051c",
   "metadata": {},
   "outputs": [
    {
     "name": "stdout",
     "output_type": "stream",
     "text": [
      "               Make and Model Classification  Registered\n",
      "Make                                                    \n",
      "Hyundai        Hyundai Tucson      Mid-Range        4948\n",
      "Toyota         Toyota Corolla      Mid-Range        4161\n",
      "Toyota           Toyota Yaris      Mid-Range        2718\n",
      "Volkswagen  Volkswagen Tiguan      Mid-Range        2502\n",
      "Skoda           Skoda Octavia      Mid-Range        2479\n"
     ]
    }
   ],
   "source": [
    "# Tidy Up DataFrame\n",
    "car_brands = car_brands.reindex(columns=[\"Make\",\"Make and Model\",\"Classification\", \"Registered\"])\n",
    "car_brands= car_brands.set_index(\"Make\")\n",
    "print(car_brands.head())"
   ]
  },
  {
   "cell_type": "code",
   "execution_count": 2382,
   "id": "b2120e66",
   "metadata": {},
   "outputs": [
    {
     "name": "stdout",
     "output_type": "stream",
     "text": [
      "                Registered\n",
      "Classification            \n",
      "High-End             13810\n",
      "Mid-Range            85198\n"
     ]
    }
   ],
   "source": [
    "# Getting High-End VS Mid-Range using .groupby\n",
    "market_breakdown = car_brands.groupby(\"Classification\", as_index=False)[\"Registered\"].sum()\n",
    "market_breakdown = market_breakdown.set_index(\"Classification\")\n",
    "print(market_breakdown)"
   ]
  },
  {
   "cell_type": "code",
   "execution_count": 2383,
   "id": "42cd5f12",
   "metadata": {},
   "outputs": [
    {
     "data": {
      "image/png": "[encoded data removed]",
      "text/plain": [
       "<Figure size 432x360 with 1 Axes>"
      ]
     },
     "metadata": {},
     "output_type": "display_data"
    }
   ],
   "source": [
    "# Plotting\n",
    "plt.style.use(\"seaborn-colorblind\")\n",
    "fig, ax = plt.subplots()\n",
    "ax.bar(market_breakdown.index, market_breakdown[\"Registered\"], color = [\"orange\", \"blue\"])\n",
    "ax.set_ylabel(\"Cars Registered\")\n",
    "plt.title(\"2021 Market Demand of High-End Cars VS Mid-Range Cars\")\n",
    "fig.set_size_inches([6,5])\n",
    "fig.savefig(\"2021_Market_Demand_of_High-End_Cars_VS_Mid-Range_Cars.png\", dpi=300)\n",
    "plt.show()"
   ]
  },
  {
   "cell_type": "code",
   "execution_count": null,
   "id": "36d42d4f",
   "metadata": {},
   "outputs": [],
   "source": []
  },
  {
   "cell_type": "code",
   "execution_count": null,
   "id": "a1d59e12",
   "metadata": {},
   "outputs": [],
   "source": []
  },
  {
   "cell_type": "code",
   "execution_count": null,
   "id": "ecf1a450",
   "metadata": {},
   "outputs": [],
   "source": []
  }
 ],
 "metadata": {
  "kernelspec": {
   "display_name": "Python 3 (ipykernel)",
   "language": "python",
   "name": "python3"
  },
  "language_info": {
   "codemirror_mode": {
    "name": "ipython",
    "version": 3
   },
   "file_extension": ".py",
   "mimetype": "text/x-python",
   "name": "python",
   "nbconvert_exporter": "python",
   "pygments_lexer": "ipython3",
   "version": "3.10.0"
  }
 },
 "nbformat": 4,
 "nbformat_minor": 5
}
