{
 "cells": [
  {
   "cell_type": "code",
   "execution_count": 488,
   "id": "810a1ac8",
   "metadata": {},
   "outputs": [],
   "source": [
    "import pandas as pd\n",
    "import numpy as py\n",
    "import matplotlib.pyplot as plt\n",
    "import seaborn as sns"
   ]
  },
  {
   "cell_type": "code",
   "execution_count": 489,
   "id": "b9b29a71",
   "metadata": {},
   "outputs": [],
   "source": [
    "new_private_cars_1st_time_registrations = pd.read_csv(\"TEM01.20220212T110233.csv\")"
   ]
  },
  {
   "cell_type": "code",
   "execution_count": 490,
   "id": "fb96a35d",
   "metadata": {},
   "outputs": [
    {
     "name": "stdout",
     "output_type": "stream",
     "text": [
      "                              Statistic    Month    Taxation Class    UNIT  \\\n",
      "0  Vehicles Licensed for the First Time  1996M07  New Private Cars  Number   \n",
      "1  Vehicles Licensed for the First Time  1996M08  New Private Cars  Number   \n",
      "2  Vehicles Licensed for the First Time  1996M09  New Private Cars  Number   \n",
      "3  Vehicles Licensed for the First Time  1996M10  New Private Cars  Number   \n",
      "4  Vehicles Licensed for the First Time  1996M11  New Private Cars  Number   \n",
      "\n",
      "   VALUE  \n",
      "0  10959  \n",
      "1   6582  \n",
      "2   5162  \n",
      "3   4815  \n",
      "4   3768  \n"
     ]
    }
   ],
   "source": [
    "print(new_private_cars_1st_time_registrations.head())"
   ]
  },
  {
   "cell_type": "code",
   "execution_count": 491,
   "id": "39bee057",
   "metadata": {},
   "outputs": [
    {
     "name": "stdout",
     "output_type": "stream",
     "text": [
      "                                Statistic    Month    Taxation Class    UNIT  \\\n",
      "302  Vehicles Licensed for the First Time  2021M09  New Private Cars  Number   \n",
      "303  Vehicles Licensed for the First Time  2021M10  New Private Cars  Number   \n",
      "304  Vehicles Licensed for the First Time  2021M11  New Private Cars  Number   \n",
      "305  Vehicles Licensed for the First Time  2021M12  New Private Cars  Number   \n",
      "306  Vehicles Licensed for the First Time  2022M01  New Private Cars  Number   \n",
      "\n",
      "     VALUE  \n",
      "302   6354  \n",
      "303   3882  \n",
      "304   2167  \n",
      "305    832  \n",
      "306  15814  \n"
     ]
    }
   ],
   "source": [
    "print(new_private_cars_1st_time_registrations.tail())"
   ]
  },
  {
   "cell_type": "code",
   "execution_count": 492,
   "id": "1ab84d45",
   "metadata": {},
   "outputs": [
    {
     "name": "stdout",
     "output_type": "stream",
     "text": [
      "(307, 5)\n"
     ]
    }
   ],
   "source": [
    "print(new_private_cars_1st_time_registrations.shape)"
   ]
  },
  {
   "cell_type": "code",
   "execution_count": 493,
   "id": "1f6b3e33",
   "metadata": {},
   "outputs": [],
   "source": [
    "new_private_cars_1st_time_registrations = new_private_cars_1st_time_registrations.dropna()"
   ]
  },
  {
   "cell_type": "code",
   "execution_count": 494,
   "id": "1346749b",
   "metadata": {},
   "outputs": [
    {
     "name": "stdout",
     "output_type": "stream",
     "text": [
      "(307, 5)\n"
     ]
    }
   ],
   "source": [
    "print(new_private_cars_1st_time_registrations.shape)"
   ]
  },
  {
   "cell_type": "code",
   "execution_count": 495,
   "id": "031a57af",
   "metadata": {},
   "outputs": [
    {
     "name": "stdout",
     "output_type": "stream",
     "text": [
      "<class 'pandas.core.frame.DataFrame'>\n",
      "RangeIndex: 307 entries, 0 to 306\n",
      "Data columns (total 5 columns):\n",
      " #   Column          Non-Null Count  Dtype \n",
      "---  ------          --------------  ----- \n",
      " 0   Statistic       307 non-null    object\n",
      " 1   Month           307 non-null    object\n",
      " 2   Taxation Class  307 non-null    object\n",
      " 3   UNIT            307 non-null    object\n",
      " 4   VALUE           307 non-null    int64 \n",
      "dtypes: int64(1), object(4)\n",
      "memory usage: 12.1+ KB\n",
      "None\n"
     ]
    }
   ],
   "source": [
    "print(new_private_cars_1st_time_registrations.info())"
   ]
  },
  {
   "cell_type": "code",
   "execution_count": 496,
   "id": "d7acd618",
   "metadata": {},
   "outputs": [],
   "source": [
    "used_private_cars_1st_time_registrations = pd.read_csv(\"TEM01.20220212T110244.csv\")"
   ]
  },
  {
   "cell_type": "code",
   "execution_count": 497,
   "id": "4314a931",
   "metadata": {},
   "outputs": [
    {
     "name": "stdout",
     "output_type": "stream",
     "text": [
      "                              Statistic    Month           Taxation Class  \\\n",
      "0  Vehicles Licensed for the First Time  1996M07  Secondhand Private Cars   \n",
      "1  Vehicles Licensed for the First Time  1996M08  Secondhand Private Cars   \n",
      "2  Vehicles Licensed for the First Time  1996M09  Secondhand Private Cars   \n",
      "3  Vehicles Licensed for the First Time  1996M10  Secondhand Private Cars   \n",
      "4  Vehicles Licensed for the First Time  1996M11  Secondhand Private Cars   \n",
      "\n",
      "     UNIT  VALUE  \n",
      "0  Number   3716  \n",
      "1  Number   3433  \n",
      "2  Number   3608  \n",
      "3  Number   4013  \n",
      "4  Number   3943  \n"
     ]
    }
   ],
   "source": [
    "print(used_private_cars_1st_time_registrations.head())"
   ]
  },
  {
   "cell_type": "code",
   "execution_count": 498,
   "id": "b9ea8e5c",
   "metadata": {},
   "outputs": [
    {
     "name": "stdout",
     "output_type": "stream",
     "text": [
      "                                Statistic    Month           Taxation Class  \\\n",
      "302  Vehicles Licensed for the First Time  2021M09  Secondhand Private Cars   \n",
      "303  Vehicles Licensed for the First Time  2021M10  Secondhand Private Cars   \n",
      "304  Vehicles Licensed for the First Time  2021M11  Secondhand Private Cars   \n",
      "305  Vehicles Licensed for the First Time  2021M12  Secondhand Private Cars   \n",
      "306  Vehicles Licensed for the First Time  2022M01  Secondhand Private Cars   \n",
      "\n",
      "       UNIT  VALUE  \n",
      "302  Number   5056  \n",
      "303  Number   4506  \n",
      "304  Number   4324  \n",
      "305  Number   3385  \n",
      "306  Number   3686  \n"
     ]
    }
   ],
   "source": [
    "print(used_private_cars_1st_time_registrations.tail())"
   ]
  },
  {
   "cell_type": "code",
   "execution_count": 499,
   "id": "73034099",
   "metadata": {},
   "outputs": [
    {
     "name": "stdout",
     "output_type": "stream",
     "text": [
      "(307, 5)\n"
     ]
    }
   ],
   "source": [
    "print(used_private_cars_1st_time_registrations.shape)"
   ]
  },
  {
   "cell_type": "code",
   "execution_count": 500,
   "id": "6cd74eff",
   "metadata": {},
   "outputs": [],
   "source": [
    "used_private_cars_1st_time_registrations = used_private_cars_1st_time_registrations.dropna()"
   ]
  },
  {
   "cell_type": "code",
   "execution_count": 501,
   "id": "82195831",
   "metadata": {},
   "outputs": [
    {
     "name": "stdout",
     "output_type": "stream",
     "text": [
      "(307, 5)\n"
     ]
    }
   ],
   "source": [
    "print(used_private_cars_1st_time_registrations.shape)"
   ]
  },
  {
   "cell_type": "code",
   "execution_count": 502,
   "id": "6c721505",
   "metadata": {},
   "outputs": [
    {
     "name": "stdout",
     "output_type": "stream",
     "text": [
      "<class 'pandas.core.frame.DataFrame'>\n",
      "RangeIndex: 307 entries, 0 to 306\n",
      "Data columns (total 5 columns):\n",
      " #   Column          Non-Null Count  Dtype \n",
      "---  ------          --------------  ----- \n",
      " 0   Statistic       307 non-null    object\n",
      " 1   Month           307 non-null    object\n",
      " 2   Taxation Class  307 non-null    object\n",
      " 3   UNIT            307 non-null    object\n",
      " 4   VALUE           307 non-null    int64 \n",
      "dtypes: int64(1), object(4)\n",
      "memory usage: 12.1+ KB\n",
      "None\n"
     ]
    }
   ],
   "source": [
    "print(used_private_cars_1st_time_registrations.info())"
   ]
  },
  {
   "cell_type": "code",
   "execution_count": 503,
   "id": "10bfb682",
   "metadata": {},
   "outputs": [],
   "source": [
    "private_cars_1st_time_registrations = pd.merge_ordered(new_private_cars_1st_time_registrations, used_private_cars_1st_time_registrations, on = \"Month\", suffixes = (\"_new\",\"_used\"))"
   ]
  },
  {
   "cell_type": "code",
   "execution_count": 504,
   "id": "f3e4423f",
   "metadata": {},
   "outputs": [
    {
     "name": "stdout",
     "output_type": "stream",
     "text": [
      "                          Statistic_new    Month Taxation Class_new UNIT_new  \\\n",
      "0  Vehicles Licensed for the First Time  1996M07   New Private Cars   Number   \n",
      "1  Vehicles Licensed for the First Time  1996M08   New Private Cars   Number   \n",
      "2  Vehicles Licensed for the First Time  1996M09   New Private Cars   Number   \n",
      "3  Vehicles Licensed for the First Time  1996M10   New Private Cars   Number   \n",
      "4  Vehicles Licensed for the First Time  1996M11   New Private Cars   Number   \n",
      "\n",
      "   VALUE_new                        Statistic_used      Taxation Class_used  \\\n",
      "0      10959  Vehicles Licensed for the First Time  Secondhand Private Cars   \n",
      "1       6582  Vehicles Licensed for the First Time  Secondhand Private Cars   \n",
      "2       5162  Vehicles Licensed for the First Time  Secondhand Private Cars   \n",
      "3       4815  Vehicles Licensed for the First Time  Secondhand Private Cars   \n",
      "4       3768  Vehicles Licensed for the First Time  Secondhand Private Cars   \n",
      "\n",
      "  UNIT_used  VALUE_used  \n",
      "0    Number        3716  \n",
      "1    Number        3433  \n",
      "2    Number        3608  \n",
      "3    Number        4013  \n",
      "4    Number        3943  \n"
     ]
    }
   ],
   "source": [
    "print(private_cars_1st_time_registrations.head())"
   ]
  },
  {
   "cell_type": "code",
   "execution_count": 505,
   "id": "c3f4d41c",
   "metadata": {},
   "outputs": [],
   "source": [
    "private_cars_1st_time_registrations = private_cars_1st_time_registrations.set_index(\"Month\").sort_index()"
   ]
  },
  {
   "cell_type": "code",
   "execution_count": 506,
   "id": "aa7db4f8",
   "metadata": {},
   "outputs": [
    {
     "data": {
      "text/html": [
       "<div>\n",
       "<style scoped>\n",
       "    .dataframe tbody tr th:only-of-type {\n",
       "        vertical-align: middle;\n",
       "    }\n",
       "\n",
       "    .dataframe tbody tr th {\n",
       "        vertical-align: top;\n",
       "    }\n",
       "\n",
       "    .dataframe thead th {\n",
       "        text-align: right;\n",
       "    }\n",
       "</style>\n",
       "<table border=\"1\" class=\"dataframe\">\n",
       "  <thead>\n",
       "    <tr style=\"text-align: right;\">\n",
       "      <th></th>\n",
       "      <th>Statistic_new</th>\n",
       "      <th>Taxation Class_new</th>\n",
       "      <th>UNIT_new</th>\n",
       "      <th>VALUE_new</th>\n",
       "      <th>Statistic_used</th>\n",
       "      <th>Taxation Class_used</th>\n",
       "      <th>UNIT_used</th>\n",
       "      <th>VALUE_used</th>\n",
       "    </tr>\n",
       "    <tr>\n",
       "      <th>Month</th>\n",
       "      <th></th>\n",
       "      <th></th>\n",
       "      <th></th>\n",
       "      <th></th>\n",
       "      <th></th>\n",
       "      <th></th>\n",
       "      <th></th>\n",
       "      <th></th>\n",
       "    </tr>\n",
       "  </thead>\n",
       "  <tbody>\n",
       "    <tr>\n",
       "      <th>1996M07</th>\n",
       "      <td>Vehicles Licensed for the First Time</td>\n",
       "      <td>New Private Cars</td>\n",
       "      <td>Number</td>\n",
       "      <td>10959</td>\n",
       "      <td>Vehicles Licensed for the First Time</td>\n",
       "      <td>Secondhand Private Cars</td>\n",
       "      <td>Number</td>\n",
       "      <td>3716</td>\n",
       "    </tr>\n",
       "    <tr>\n",
       "      <th>1996M08</th>\n",
       "      <td>Vehicles Licensed for the First Time</td>\n",
       "      <td>New Private Cars</td>\n",
       "      <td>Number</td>\n",
       "      <td>6582</td>\n",
       "      <td>Vehicles Licensed for the First Time</td>\n",
       "      <td>Secondhand Private Cars</td>\n",
       "      <td>Number</td>\n",
       "      <td>3433</td>\n",
       "    </tr>\n",
       "    <tr>\n",
       "      <th>1996M09</th>\n",
       "      <td>Vehicles Licensed for the First Time</td>\n",
       "      <td>New Private Cars</td>\n",
       "      <td>Number</td>\n",
       "      <td>5162</td>\n",
       "      <td>Vehicles Licensed for the First Time</td>\n",
       "      <td>Secondhand Private Cars</td>\n",
       "      <td>Number</td>\n",
       "      <td>3608</td>\n",
       "    </tr>\n",
       "    <tr>\n",
       "      <th>1996M10</th>\n",
       "      <td>Vehicles Licensed for the First Time</td>\n",
       "      <td>New Private Cars</td>\n",
       "      <td>Number</td>\n",
       "      <td>4815</td>\n",
       "      <td>Vehicles Licensed for the First Time</td>\n",
       "      <td>Secondhand Private Cars</td>\n",
       "      <td>Number</td>\n",
       "      <td>4013</td>\n",
       "    </tr>\n",
       "    <tr>\n",
       "      <th>1996M11</th>\n",
       "      <td>Vehicles Licensed for the First Time</td>\n",
       "      <td>New Private Cars</td>\n",
       "      <td>Number</td>\n",
       "      <td>3768</td>\n",
       "      <td>Vehicles Licensed for the First Time</td>\n",
       "      <td>Secondhand Private Cars</td>\n",
       "      <td>Number</td>\n",
       "      <td>3943</td>\n",
       "    </tr>\n",
       "  </tbody>\n",
       "</table>\n",
       "</div>"
      ],
      "text/plain": [
       "                                Statistic_new Taxation Class_new UNIT_new  \\\n",
       "Month                                                                       \n",
       "1996M07  Vehicles Licensed for the First Time   New Private Cars   Number   \n",
       "1996M08  Vehicles Licensed for the First Time   New Private Cars   Number   \n",
       "1996M09  Vehicles Licensed for the First Time   New Private Cars   Number   \n",
       "1996M10  Vehicles Licensed for the First Time   New Private Cars   Number   \n",
       "1996M11  Vehicles Licensed for the First Time   New Private Cars   Number   \n",
       "\n",
       "         VALUE_new                        Statistic_used  \\\n",
       "Month                                                      \n",
       "1996M07      10959  Vehicles Licensed for the First Time   \n",
       "1996M08       6582  Vehicles Licensed for the First Time   \n",
       "1996M09       5162  Vehicles Licensed for the First Time   \n",
       "1996M10       4815  Vehicles Licensed for the First Time   \n",
       "1996M11       3768  Vehicles Licensed for the First Time   \n",
       "\n",
       "             Taxation Class_used UNIT_used  VALUE_used  \n",
       "Month                                                   \n",
       "1996M07  Secondhand Private Cars    Number        3716  \n",
       "1996M08  Secondhand Private Cars    Number        3433  \n",
       "1996M09  Secondhand Private Cars    Number        3608  \n",
       "1996M10  Secondhand Private Cars    Number        4013  \n",
       "1996M11  Secondhand Private Cars    Number        3943  "
      ]
     },
     "execution_count": 506,
     "metadata": {},
     "output_type": "execute_result"
    }
   ],
   "source": [
    "private_cars_1st_time_registrations.head()"
   ]
  },
  {
   "cell_type": "code",
   "execution_count": 507,
   "id": "95b39e1f",
   "metadata": {},
   "outputs": [],
   "source": [
    "car_registrations_from_2017_to_2021 = private_cars_1st_time_registrations[\"2017M01\":\"2021M12\"]"
   ]
  },
  {
   "cell_type": "code",
   "execution_count": 508,
   "id": "c7559ec7",
   "metadata": {},
   "outputs": [
    {
     "data": {
      "text/html": [
       "<div>\n",
       "<style scoped>\n",
       "    .dataframe tbody tr th:only-of-type {\n",
       "        vertical-align: middle;\n",
       "    }\n",
       "\n",
       "    .dataframe tbody tr th {\n",
       "        vertical-align: top;\n",
       "    }\n",
       "\n",
       "    .dataframe thead th {\n",
       "        text-align: right;\n",
       "    }\n",
       "</style>\n",
       "<table border=\"1\" class=\"dataframe\">\n",
       "  <thead>\n",
       "    <tr style=\"text-align: right;\">\n",
       "      <th></th>\n",
       "      <th>Statistic_new</th>\n",
       "      <th>Taxation Class_new</th>\n",
       "      <th>UNIT_new</th>\n",
       "      <th>VALUE_new</th>\n",
       "      <th>Statistic_used</th>\n",
       "      <th>Taxation Class_used</th>\n",
       "      <th>UNIT_used</th>\n",
       "      <th>VALUE_used</th>\n",
       "    </tr>\n",
       "    <tr>\n",
       "      <th>Month</th>\n",
       "      <th></th>\n",
       "      <th></th>\n",
       "      <th></th>\n",
       "      <th></th>\n",
       "      <th></th>\n",
       "      <th></th>\n",
       "      <th></th>\n",
       "      <th></th>\n",
       "    </tr>\n",
       "  </thead>\n",
       "  <tbody>\n",
       "    <tr>\n",
       "      <th>2021M08</th>\n",
       "      <td>Vehicles Licensed for the First Time</td>\n",
       "      <td>New Private Cars</td>\n",
       "      <td>Number</td>\n",
       "      <td>8563</td>\n",
       "      <td>Vehicles Licensed for the First Time</td>\n",
       "      <td>Secondhand Private Cars</td>\n",
       "      <td>Number</td>\n",
       "      <td>5219</td>\n",
       "    </tr>\n",
       "    <tr>\n",
       "      <th>2021M09</th>\n",
       "      <td>Vehicles Licensed for the First Time</td>\n",
       "      <td>New Private Cars</td>\n",
       "      <td>Number</td>\n",
       "      <td>6354</td>\n",
       "      <td>Vehicles Licensed for the First Time</td>\n",
       "      <td>Secondhand Private Cars</td>\n",
       "      <td>Number</td>\n",
       "      <td>5056</td>\n",
       "    </tr>\n",
       "    <tr>\n",
       "      <th>2021M10</th>\n",
       "      <td>Vehicles Licensed for the First Time</td>\n",
       "      <td>New Private Cars</td>\n",
       "      <td>Number</td>\n",
       "      <td>3882</td>\n",
       "      <td>Vehicles Licensed for the First Time</td>\n",
       "      <td>Secondhand Private Cars</td>\n",
       "      <td>Number</td>\n",
       "      <td>4506</td>\n",
       "    </tr>\n",
       "    <tr>\n",
       "      <th>2021M11</th>\n",
       "      <td>Vehicles Licensed for the First Time</td>\n",
       "      <td>New Private Cars</td>\n",
       "      <td>Number</td>\n",
       "      <td>2167</td>\n",
       "      <td>Vehicles Licensed for the First Time</td>\n",
       "      <td>Secondhand Private Cars</td>\n",
       "      <td>Number</td>\n",
       "      <td>4324</td>\n",
       "    </tr>\n",
       "    <tr>\n",
       "      <th>2021M12</th>\n",
       "      <td>Vehicles Licensed for the First Time</td>\n",
       "      <td>New Private Cars</td>\n",
       "      <td>Number</td>\n",
       "      <td>832</td>\n",
       "      <td>Vehicles Licensed for the First Time</td>\n",
       "      <td>Secondhand Private Cars</td>\n",
       "      <td>Number</td>\n",
       "      <td>3385</td>\n",
       "    </tr>\n",
       "  </tbody>\n",
       "</table>\n",
       "</div>"
      ],
      "text/plain": [
       "                                Statistic_new Taxation Class_new UNIT_new  \\\n",
       "Month                                                                       \n",
       "2021M08  Vehicles Licensed for the First Time   New Private Cars   Number   \n",
       "2021M09  Vehicles Licensed for the First Time   New Private Cars   Number   \n",
       "2021M10  Vehicles Licensed for the First Time   New Private Cars   Number   \n",
       "2021M11  Vehicles Licensed for the First Time   New Private Cars   Number   \n",
       "2021M12  Vehicles Licensed for the First Time   New Private Cars   Number   \n",
       "\n",
       "         VALUE_new                        Statistic_used  \\\n",
       "Month                                                      \n",
       "2021M08       8563  Vehicles Licensed for the First Time   \n",
       "2021M09       6354  Vehicles Licensed for the First Time   \n",
       "2021M10       3882  Vehicles Licensed for the First Time   \n",
       "2021M11       2167  Vehicles Licensed for the First Time   \n",
       "2021M12        832  Vehicles Licensed for the First Time   \n",
       "\n",
       "             Taxation Class_used UNIT_used  VALUE_used  \n",
       "Month                                                   \n",
       "2021M08  Secondhand Private Cars    Number        5219  \n",
       "2021M09  Secondhand Private Cars    Number        5056  \n",
       "2021M10  Secondhand Private Cars    Number        4506  \n",
       "2021M11  Secondhand Private Cars    Number        4324  \n",
       "2021M12  Secondhand Private Cars    Number        3385  "
      ]
     },
     "execution_count": 508,
     "metadata": {},
     "output_type": "execute_result"
    }
   ],
   "source": [
    "car_registrations_from_2017_to_2021.tail()"
   ]
  },
  {
   "cell_type": "code",
   "execution_count": 509,
   "id": "666ad023",
   "metadata": {},
   "outputs": [
    {
     "data": {
      "text/plain": [
       "(60, 8)"
      ]
     },
     "execution_count": 509,
     "metadata": {},
     "output_type": "execute_result"
    }
   ],
   "source": [
    "car_registrations_from_2017_to_2021.shape"
   ]
  },
  {
   "cell_type": "code",
   "execution_count": 510,
   "id": "8b5d7985",
   "metadata": {},
   "outputs": [],
   "source": [
    "car_registrations_from_2017_to_2021 = car_registrations_from_2017_to_2021.drop([\"Statistic_new\",\"Taxation Class_new\",\"UNIT_new\",\"Statistic_used\",\"Taxation Class_used\",\"UNIT_used\"], axis = 1)"
   ]
  },
  {
   "cell_type": "code",
   "execution_count": 511,
   "id": "53e6d667",
   "metadata": {},
   "outputs": [],
   "source": [
    "car_registrations_from_2017_to_2021 = car_registrations_from_2017_to_2021.rename({\"VALUE_new\" : \"New-Car-Registrations\" , \"VALUE_used\" : \"Used-Car-Registrations\"},axis = 1)"
   ]
  },
  {
   "cell_type": "code",
   "execution_count": 512,
   "id": "cf516b2d",
   "metadata": {},
   "outputs": [
    {
     "data": {
      "text/html": [
       "<div>\n",
       "<style scoped>\n",
       "    .dataframe tbody tr th:only-of-type {\n",
       "        vertical-align: middle;\n",
       "    }\n",
       "\n",
       "    .dataframe tbody tr th {\n",
       "        vertical-align: top;\n",
       "    }\n",
       "\n",
       "    .dataframe thead th {\n",
       "        text-align: right;\n",
       "    }\n",
       "</style>\n",
       "<table border=\"1\" class=\"dataframe\">\n",
       "  <thead>\n",
       "    <tr style=\"text-align: right;\">\n",
       "      <th></th>\n",
       "      <th>New-Car-Registrations</th>\n",
       "      <th>Used-Car-Registrations</th>\n",
       "    </tr>\n",
       "    <tr>\n",
       "      <th>Month</th>\n",
       "      <th></th>\n",
       "      <th></th>\n",
       "    </tr>\n",
       "  </thead>\n",
       "  <tbody>\n",
       "    <tr>\n",
       "      <th>2017M01</th>\n",
       "      <td>26668</td>\n",
       "      <td>6798</td>\n",
       "    </tr>\n",
       "    <tr>\n",
       "      <th>2017M02</th>\n",
       "      <td>16905</td>\n",
       "      <td>7723</td>\n",
       "    </tr>\n",
       "    <tr>\n",
       "      <th>2017M03</th>\n",
       "      <td>17180</td>\n",
       "      <td>8335</td>\n",
       "    </tr>\n",
       "    <tr>\n",
       "      <th>2017M04</th>\n",
       "      <td>13427</td>\n",
       "      <td>7272</td>\n",
       "    </tr>\n",
       "    <tr>\n",
       "      <th>2017M05</th>\n",
       "      <td>9581</td>\n",
       "      <td>7732</td>\n",
       "    </tr>\n",
       "  </tbody>\n",
       "</table>\n",
       "</div>"
      ],
      "text/plain": [
       "         New-Car-Registrations  Used-Car-Registrations\n",
       "Month                                                 \n",
       "2017M01                  26668                    6798\n",
       "2017M02                  16905                    7723\n",
       "2017M03                  17180                    8335\n",
       "2017M04                  13427                    7272\n",
       "2017M05                   9581                    7732"
      ]
     },
     "execution_count": 512,
     "metadata": {},
     "output_type": "execute_result"
    }
   ],
   "source": [
    "car_registrations_from_2017_to_2021.head()"
   ]
  },
  {
   "cell_type": "code",
   "execution_count": 513,
   "id": "44f3e566",
   "metadata": {},
   "outputs": [
    {
     "data": {
      "image/png": "[encoded data removed]",
      "text/plain": [
       "<Figure size 1224x360 with 1 Axes>"
      ]
     },
     "metadata": {},
     "output_type": "display_data"
    }
   ],
   "source": [
    "plt.style.use(\"seaborn-colorblind\")\n",
    "fig, ax = plt.subplots()\n",
    "ax.plot(car_registrations_from_2017_to_2021[\"New-Car-Registrations\"], label = \"New\")\n",
    "ax.plot(car_registrations_from_2017_to_2021[\"Used-Car-Registrations\"], label = \"Used\")\n",
    "ax.set_xlabel(\"Time(months)\")\n",
    "ax.set_ylabel(\"Car Registrations(quantity)\")\n",
    "\n",
    "plt.title(\"2017 to 2021 Car Registrations\")\n",
    "plt.xticks(rotation = 70, fontsize=10)\n",
    "plt.legend(loc='upper right')\n",
    "fig.set_size_inches([17,5])\n",
    "fig.savefig(\"2017_to_2021_Car_Registrations.png\",dpi=300)\n"
   ]
  },
  {
   "cell_type": "code",
   "execution_count": null,
   "id": "3f2f148f",
   "metadata": {},
   "outputs": [],
   "source": []
  },
  {
   "cell_type": "code",
   "execution_count": null,
   "id": "b82e6163",
   "metadata": {},
   "outputs": [],
   "source": []
  },
  {
   "cell_type": "code",
   "execution_count": null,
   "id": "d17ca87d",
   "metadata": {},
   "outputs": [],
   "source": []
  }
 ],
 "metadata": {
  "kernelspec": {
   "display_name": "Python 3 (ipykernel)",
   "language": "python",
   "name": "python3"
  },
  "language_info": {
   "codemirror_mode": {
    "name": "ipython",
    "version": 3
   },
   "file_extension": ".py",
   "mimetype": "text/x-python",
   "name": "python",
   "nbconvert_exporter": "python",
   "pygments_lexer": "ipython3",
   "version": "3.10.0"
  }
 },
 "nbformat": 4,
 "nbformat_minor": 5
}
